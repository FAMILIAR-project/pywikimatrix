{
 "cells": [
  {
   "cell_type": "code",
   "execution_count": 5,
   "metadata": {},
   "outputs": [
    {
     "name": "stdout",
     "output_type": "stream",
     "text": [
      "Extracting from Comparison_of_Canon_EOS_digital_cameras\n",
      "CSV 1 saved\n"
     ]
    }
   ],
   "source": [
    "import urllib.request\n",
    "import pandas as pd\n",
    "import re\n",
    "\n",
    "\n",
    "\n",
    "def sanitize_filename(astr):\n",
    "    return astr.rstrip() # .strip()\n",
    "\n",
    "OUTPUT_FOLDER=\"outputPandasCSV/\"\n",
    "\n",
    "def get_wikipedia_html(url):\n",
    "    return urllib.request.urlopen(url).read().decode(\"utf-8\") # TODO exceptions\n",
    "\n",
    "def extract_tables_from_pcmlist():\n",
    "    # hardcoded\n",
    "    with open(\"list_of_PCMs.txt\") as f:\n",
    "        wurls = f.readlines()\n",
    "        \n",
    "    BASE_WIKIPEDIA_URL=\"https://en.wikipedia.org/wiki/\"\n",
    "    wurls = ['Comparison_of_Canon_EOS_digital_cameras']\n",
    "    for wurl in wurls:    \n",
    "        print (\"Extracting from\", wurl)\n",
    "        try:\n",
    "            wfurl = BASE_WIKIPEDIA_URL + wurl\n",
    "            whtml = get_wikipedia_html(wfurl)\n",
    "\n",
    "            # TODO header=0 means that the first row is used as a header, but it can be different \n",
    "            # TODO there are other ways to process the HTML (but pandas facilities sound great!)\n",
    "            # dfs = pd.read_html(whtml, header=0, attrs={'class' : re.compile(\"wikitable sortable?\")})\n",
    "            dfs = pd.read_html(whtml, header=0, attrs={'class' : re.compile(\"wikitable\")})\n",
    "            \n",
    "            \n",
    "            ntable = 1\n",
    "            for df in dfs:\n",
    "                print(\"CSV\", ntable, \"saved\")\n",
    "                df.to_csv(OUTPUT_FOLDER + sanitize_filename(wurl) + \"-\" + str(ntable) + \".csv\")\n",
    "                ntable = ntable + 1\n",
    "            \n",
    "        except urllib.request.HTTPError: \n",
    "            print (\"URL is not valid!\")\n",
    "        except UnicodeEncodeError:\n",
    "            print (\"ASCII decoding error\")\n",
    "        except ValueError:\n",
    "            print (\"Value error (pandas limitation)\")\n",
    "            \n",
    "extract_tables_from_pcmlist()"
   ]
  },
  {
   "cell_type": "code",
   "execution_count": 3,
   "metadata": {},
   "outputs": [],
   "source": [
    "#import re\n",
    "#re.compile(\"wikitable sortable?\")"
   ]
  },
  {
   "cell_type": "code",
   "execution_count": null,
   "metadata": {},
   "outputs": [],
   "source": []
  }
 ],
 "metadata": {
  "kernelspec": {
   "display_name": "Python 3",
   "language": "python",
   "name": "python3"
  },
  "language_info": {
   "codemirror_mode": {
    "name": "ipython",
    "version": 3
   },
   "file_extension": ".py",
   "mimetype": "text/x-python",
   "name": "python",
   "nbconvert_exporter": "python",
   "pygments_lexer": "ipython3",
   "version": "3.7.5"
  }
 },
 "nbformat": 4,
 "nbformat_minor": 2
}
