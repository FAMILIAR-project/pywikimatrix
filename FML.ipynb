{
 "cells": [
  {
   "cell_type": "code",
   "execution_count": null,
   "metadata": {},
   "outputs": [],
   "source": []
  },
  {
   "cell_type": "code",
   "execution_count": 1,
   "metadata": {},
   "outputs": [
    {
     "name": "stdout",
     "output_type": "stream",
     "text": [
      "Coucou\n"
     ]
    },
    {
     "data": {
      "text/plain": [
       "Coucou (2)"
      ]
     },
     "execution_count": 1,
     "metadata": {},
     "output_type": "execute_result"
    }
   ],
   "source": [
    "System.out.println(\"Coucou\");\n",
    "return \"Coucou (2)\";"
   ]
  },
  {
   "cell_type": "code",
   "execution_count": 2,
   "metadata": {},
   "outputs": [
    {
     "data": {
      "application/vnd.jupyter.widget-view+json": {
       "model_id": "bc03587a-60ab-484e-841c-70c2aad9cd5a",
       "version_major": 2,
       "version_minor": 0
      },
      "method": "display_data"
     },
     "metadata": {},
     "output_type": "display_data"
    }
   ],
   "source": [
    "%classpath add jar /Users/macher1/Documents/SANDBOX/FML-from-scratch/familiar-language/familiar.standalone/target/FAMILIAR-Standalone-1.0.10-jar-with-dependencies.jar\n"
   ]
  },
  {
   "cell_type": "code",
   "execution_count": 3,
   "metadata": {},
   "outputs": [
    {
     "data": {
      "application/vnd.jupyter.widget-view+json": {
       "model_id": "6c8f1374-a148-4d04-9296-0737f54a5d16",
       "version_major": 2,
       "version_minor": 0
      },
      "method": "display_data"
     },
     "metadata": {},
     "output_type": "display_data"
    }
   ],
   "source": [
    "%classpath add jar /Users/macher1/Documents/SANDBOX/FML-from-scratch/familiar-language/familiar.test/target/FAMILIAR-Test-1.0.10.jar\n",
    "\n"
   ]
  },
  {
   "cell_type": "code",
   "execution_count": 4,
   "metadata": {},
   "outputs": [
    {
     "data": {
      "text/plain": [
       "com.twosigma.beaker.javash.bkrf9922628.FMLUti"
      ]
     },
     "execution_count": 4,
     "metadata": {},
     "output_type": "execute_result"
    }
   ],
   "source": [
    "import fr.familiar.variable.FeatureModelVariable;\n",
    "import fr.familiar.variable.Variable;\n",
    "import fr.familiar.variable.SetVariable;\n",
    "import fr.familiar.variable.Variable;\n",
    "import fr.familiar.interpreter.FMLShell;\n",
    "import fr.familiar.parser.FMLCommandInterpreter;\n",
    "\n",
    "public class FMLUti {\n",
    "    \n",
    "    /**\n",
    "    * @param id\n",
    "    * @return a variable of type feature model whose identifier is id in the\n",
    "    *         current environment\n",
    "    * @throws Exception\n",
    "    */\n",
    "    public FeatureModelVariable getFMVariable(String id, FMLCommandInterpreter env) throws Exception {\n",
    "\n",
    "        Variable v = env.getVariable(id);\n",
    "        FeatureModelVariable fmv = (FeatureModelVariable) v;\n",
    "        return fmv;\n",
    "\n",
    "    }\n",
    "\n",
    "}\n",
    "\n"
   ]
  },
  {
   "cell_type": "code",
   "execution_count": 5,
   "metadata": {},
   "outputs": [
    {
     "data": {
      "text/plain": [
       "A: C B D E F ; \n",
       "E: I G ;"
      ]
     },
     "execution_count": 5,
     "metadata": {},
     "output_type": "execute_result"
    }
   ],
   "source": [
    "import fr.familiar.interpreter.FMLShell;\n",
    "import fr.familiar.variable.FeatureModelVariable;\n",
    "FeatureModelVariable fm1 = null;\n",
    "try {\n",
    "    FMLShell _shell = FMLShell.instantiateStandalone(null);\n",
    "    String strfm1 = \"FM (A : B C D E F; E : G I ; )\"; // valid feature model\n",
    "    _shell.parse(\"fm1 =\" + strfm1 + \"\\n\");\n",
    "    fm1 = new FMLUti().getFMVariable(\"fm1\", _shell.getCurrentEnv());\n",
    "    \n",
    "}\n",
    "catch (Exception e) {\n",
    "    \n",
    "}\n",
    "return fm1.toString();"
   ]
  },
  {
   "cell_type": "code",
   "execution_count": 6,
   "metadata": {},
   "outputs": [
    {
     "data": {
      "text/plain": [
       "com.twosigma.beaker.javash.bkrf9922628.FMLCoresTest"
      ]
     },
     "execution_count": 6,
     "metadata": {},
     "output_type": "execute_result"
    }
   ],
   "source": [
    "import fr.familiar.FMLTest;\n",
    "import fr.familiar.variable.FeatureModelVariable;\n",
    "\n",
    "import java.util.Set;\n",
    "\n",
    "class FMLCoresTest extends FMLTest {\n",
    "\n",
    "\n",
    "    public FMLCoresTest () throws Exception {\n",
    "        \n",
    "        super.setUp();\n",
    "        \n",
    "    }\n",
    "\tpublic String testCore1() throws Exception {\n",
    "\n",
    "\t\tString strfm1 = \"FM (A : B C D E F; E : G I ; )\"; // valid feature model\n",
    "\t\t\t\t\t\t\t\t\t\t\t\t\t\t\t// with only\n",
    "\t\t\t\t\t\t\t\t\t\t\t\t\t\t\t// mandatory\n",
    "\t\t\t\t\t\t\t\t\t\t\t\t\t\t\t// features\n",
    "\t\t_shell.parse(\"fm1 =\" + strfm1 + \"\\n\");\n",
    "\n",
    "\t\t//FeatureModelVariable fm1 = getFMVariable(\"fm1\");\n",
    "        //System.out.println (fm1);\n",
    "\n",
    "\t\t/*assertEquals(true, fm1.isValid());\n",
    "\t\tassertEquals(1, fm1.counting(), 0);\n",
    "\n",
    "\t\tSet<String> cores = fm1.cores(); // all features are cores\n",
    "\t\tSetVariable fts = fm1.features();\n",
    "\t\tassertEquals(fts.size(), cores.size());\n",
    "\n",
    "\t\tassertEquals(FMLTest.setVariabletoString(fts), cores);*/\n",
    "        return strfm1; // fm1.cores(); // \n",
    "\n",
    "\t}\n",
    "}"
   ]
  },
  {
   "cell_type": "code",
   "execution_count": 7,
   "metadata": {},
   "outputs": [
    {
     "name": "stdout",
     "output_type": "stream",
     "text": [
      "FM (A : B C D E F; E : G I ; )\n"
     ]
    },
    {
     "data": {
      "text/plain": [
       "null"
      ]
     },
     "execution_count": 7,
     "metadata": {},
     "output_type": "execute_result"
    }
   ],
   "source": [
    "System.out.println (new FMLCoresTest().testCore1());\n"
   ]
  },
  {
   "cell_type": "code",
   "execution_count": 8,
   "metadata": {},
   "outputs": [
    {
     "data": {
      "text/plain": [
       "com.twosigma.beaker.javash.bkrf9922628.FMLGettingStarted"
      ]
     },
     "execution_count": 8,
     "metadata": {},
     "output_type": "execute_result"
    }
   ],
   "source": [
    "import static org.junit.Assert.assertEquals;\n",
    "import static org.junit.Assert.assertFalse;\n",
    "import static org.junit.Assert.assertTrue;\n",
    "\n",
    "import java.util.Collection;\n",
    "import java.util.HashSet;\n",
    "import java.util.Map;\n",
    "import java.util.Set;\n",
    "import java.util.stream.Collectors;\n",
    "\n",
    "import org.junit.Test;\n",
    "\n",
    "import fr.familiar.FMLTest;\n",
    "import fr.familiar.parser.FMBuilder;\n",
    "import fr.familiar.variable.Comparison;\n",
    "import fr.familiar.variable.FeatureModelVariable;\n",
    "import fr.familiar.variable.SetVariable;\n",
    "import fr.familiar.variable.Variable;\n",
    "\n",
    "\n",
    "import java.util.HashMap;\n",
    "import java.util.Map;\n",
    "import java.util.Set;\n",
    "\n",
    "import com.google.common.collect.Sets;\n",
    "\n",
    "/**\n",
    " *  \n",
    " * Created by macher1 on 28/11/2017.\n",
    " */\n",
    "public class FMLGettingStarted extends FMLTest {   \n",
    "    \n",
    "    \n",
    " \tpublic FMLGettingStarted() throws Exception {\n",
    "\t\tsuper.setUp();\n",
    "\t}\n",
    "\n",
    "\t\n",
    "    public void testHelloWorld() throws Exception {\n",
    "        System.out.println(\"fmv\");\n",
    "        FeatureModelVariable fmv = FM (\"fm1\", \"FM (A : [B] [C] ;)\"); // B and C are optional features of A (root)        \n",
    "        assertEquals(4.0, fmv.counting(), 0.0);\n",
    "        System.out.println(\"fmv2\");\n",
    "\n",
    "        // alternate way to build a feature model\n",
    "        FeatureModelVariable fmv2 = new FeatureModelVariable (\"fm2\", FMBuilder.getInternalFM(\"A : [B] [C] ;\"));\n",
    "        assertEquals(Comparison.REFACTORING, fmv2.compare(fmv));\n",
    "        \n",
    "        // void or unsatisfiable feature model\n",
    "        FeatureModelVariable fmv3 = FM (\"fm1\", \"FM (A : B C ; B -> !C; )\");   // B and C are mandatory features and B -> !C introduces a logical contradiction     \n",
    "        assertEquals(0.0, fmv3.counting(), 0.0);\n",
    "        assertFalse(fmv3.isValid());\n",
    "        \n",
    "        // false optional, dead, core, all configs\n",
    "        FeatureModelVariable fmv4 = FM (\"fm1\", \"FM (A : B [C] [D] ; B -> !C; B -> D; )\"); // C is a dead feature and D is a core feature      \n",
    "        assertEquals(1.0, fmv4.counting(), 0.0);\n",
    "        assertTrue(fmv4.isValid());\n",
    "        assertEquals(1, fmv4.falseOptionalFeatures().size());\n",
    "        assertEquals(3, fmv4.cores().size());\n",
    "        assertEquals(1, fmv4.deads().size());\n",
    "                 \n",
    "        Set<Variable> allConfigs = fmv.configs();\t \n",
    "        for (Variable cf : allConfigs) {\n",
    "            Set<String> confFts = ((SetVariable) cf).names();\n",
    "            FeatureConfiguration ftConf = new FeatureConfiguration(confFts, fmv);\t  \n",
    "            System.err.println(\"\" + confFts + \" \" + ftConf.getConfMap());\n",
    "        }\n",
    "        \n",
    "        // slice, merge, etc       \n",
    "        \n",
    "    }\n",
    "    \n",
    "}\n",
    "\n",
    "class FeatureConfiguration {\n",
    "\n",
    "\tprivate Set<String> _selectedFeatures;\n",
    "\tprivate FeatureModelVariable _fmv;\n",
    "\t\n",
    "\n",
    "\tpublic FeatureConfiguration(Set<String> cf, FeatureModelVariable fmv) {\n",
    "\t\t_selectedFeatures = cf; \t\n",
    "\t\t_fmv = fmv; \n",
    "\t}\n",
    "\n",
    "\tpublic Set<String> getSelectedFeatures() {\n",
    "\t\treturn _selectedFeatures;\n",
    "\t}\n",
    "\t\n",
    "\tpublic Set<String> getDeselectFeatures() {\n",
    "\t\treturn Sets.difference(_fmv.features().names(), _selectedFeatures);\n",
    "\t}\n",
    "\t\n",
    "\t\n",
    "\t\n",
    "\t public Map<String, Boolean> getConfMap() {\n",
    "\n",
    "\t        Map<String, Boolean> lConf = new HashMap<>();\n",
    "\n",
    "\t        Set<String> allFts = _fmv.features().names();\n",
    "\t        for (String ft : allFts) {\n",
    "\t            if (_selectedFeatures.contains(ft))\n",
    "\t                lConf.put(ft, true);\n",
    "\t            else\n",
    "\t                lConf.put(ft, false);\n",
    "\t            \n",
    "\t        }\n",
    "\n",
    "\t        return lConf;\n",
    "\t    }\n",
    "}"
   ]
  },
  {
   "cell_type": "code",
   "execution_count": 9,
   "metadata": {},
   "outputs": [
    {
     "name": "stdout",
     "output_type": "stream",
     "text": [
      "fmv\n",
      "fmv2\n"
     ]
    },
    {
     "name": "stderr",
     "output_type": "stream",
     "text": [
      "[A, B] {A=true, B=true, C=false}\n",
      "[A, B, C] {A=true, B=true, C=true}\n",
      "[A, C] {A=true, B=false, C=true}\n",
      "[A] {A=true, B=false, C=false}\n"
     ]
    },
    {
     "data": {
      "text/plain": [
       "null"
      ]
     },
     "execution_count": 9,
     "metadata": {},
     "output_type": "execute_result"
    }
   ],
   "source": [
    "new FMLGettingStarted().testHelloWorld();"
   ]
  },
  {
   "cell_type": "code",
   "execution_count": 10,
   "metadata": {},
   "outputs": [
    {
     "data": {
      "text/plain": [
       "null"
      ]
     },
     "execution_count": 10,
     "metadata": {},
     "output_type": "execute_result"
    }
   ],
   "source": [
    "/*import fr.familiar.interpreter.FMLShell;\n",
    "import fr.familiar.parser.FMLCommandInterpreter;\n",
    "\n",
    "FMLShell sh = FMLShell.instantiateStandalone(null);\n",
    "FMLCommandInterpreter env = sh.getCurrentEnv();\n",
    "sh.parse(\"fm1 = FM (A : [B]; )\");\n",
    "return env.getVariable(\"fm1\").toString();*/\n"
   ]
  },
  {
   "cell_type": "code",
   "execution_count": 11,
   "metadata": {},
   "outputs": [
    {
     "data": {
      "text/plain": [
       "fr.familiar.interpreter.FMLInterpreter"
      ]
     },
     "execution_count": 11,
     "metadata": {},
     "output_type": "execute_result"
    }
   ],
   "source": [
    "package fr.familiar.interpreter;\n",
    "import fr.familiar.variable.FeatureModelVariable;\n",
    "\n",
    "public class FMLInterpreter {\n",
    "    public static FeatureModelVariable FM(String fml) throws Exception {\n",
    "        if (!fml.contains(\"FM\"))\n",
    "            fml = \"FM (\" + fml + \")\";\n",
    "        return ((FeatureModelVariable) new FMLBasicInterpreter().eval(fml));\n",
    "    }\n",
    "}"
   ]
  },
  {
   "cell_type": "code",
   "execution_count": null,
   "metadata": {},
   "outputs": [],
   "source": [
    "import static fr.familiar.interpreter.FMLInterpreter.*;\n",
    "return FM (\"H : [E] [LL] [O] (W|R); W -> LL;\").counting();"
   ]
  },
  {
   "cell_type": "code",
   "execution_count": null,
   "metadata": {},
   "outputs": [],
   "source": [
    "import static fr.familiar.interpreter.FMLInterpreter.*;\n",
    "import org.xtext.example.mydsl.fml.SliceMode;\n",
    "\n",
    "\n",
    "return FM (\"W : P T [U] ; T : [V] A ;\\n\"\n",
    "\t\t\t+ \"      \t       \t     A : B C [D] ; \\n\"\n",
    "\t\t\t+ \"\t\t       \t     \t C : [E] [F] ; \\n\" + \"\t\t     P : (R|S)+ ; \\n\"\n",
    "\t\t\t+ \"\t\t     E implies D ; R implies E ; \\n\"\n",
    "\t\t\t+ \"\t\t     S implies (F and !E) ; D implies !F ;\").slice(SliceMode.EXCLUDING, \"D\", \"P\", \"C\");\n",
    "            \n"
   ]
  },
  {
   "cell_type": "code",
   "execution_count": null,
   "metadata": {},
   "outputs": [],
   "source": []
  }
 ],
 "metadata": {
  "kernelspec": {
   "display_name": "Java",
   "language": "java",
   "name": "java"
  },
  "language_info": {
   "codemirror_mode": "text/x-java",
   "file_extension": ".java",
   "mimetype": "",
   "name": "Java",
   "nbconverter_exporter": "",
   "version": "1.8.0_31"
  },
  "toc": {
   "base_numbering": 1,
   "nav_menu": {},
   "number_sections": false,
   "sideBar": false,
   "skip_h1_title": false,
   "title_cell": "Table of Contents",
   "title_sidebar": "Contents",
   "toc_cell": false,
   "toc_position": {},
   "toc_section_display": false,
   "toc_window_display": false
  }
 },
 "nbformat": 4,
 "nbformat_minor": 2
}
