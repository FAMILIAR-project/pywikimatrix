{
 "cells": [
  {
   "cell_type": "code",
   "execution_count": 1,
   "metadata": {},
   "outputs": [
    {
     "data": {
      "application/vnd.jupyter.widget-view+json": {
       "model_id": "f41ffaf7-7458-47a9-8b79-67e7f538e4f5",
       "version_major": 2,
       "version_minor": 0
      },
      "method": "display_data"
     },
     "metadata": {},
     "output_type": "display_data"
    }
   ],
   "source": [
    "%classpath add jar /Users/macher1/Documents/SANDBOX/FML-from-scratch/familiar-language/familiar.standalone/target/FAMILIAR-Standalone-1.0.10-jar-with-dependencies.jar\n"
   ]
  },
  {
   "cell_type": "code",
   "execution_count": 2,
   "metadata": {},
   "outputs": [
    {
     "data": {
      "text/plain": [
       "$line25.$read$$iw$$iw$$iw$$iw$$iw$$iw$$iw$$iw$$iw$$iw$$iw$$iw$$iw$$iw$$iw$$iw$$iw$$iw$$iw$$iw$FMLInterpreter$@31bc32a8"
      ]
     },
     "execution_count": 2,
     "metadata": {},
     "output_type": "execute_result"
    }
   ],
   "source": [
    "import fr.familiar.variable._\n",
    "import fr.familiar.interpreter._\n",
    "\n",
    "object FMLInterpreter {\n",
    "    def FM(fml : String) : FeatureModelVariable = {\n",
    "        if (!fml.contains(\"FM\"))\n",
    "            return new FMLBasicInterpreter().eval(\"FM (\" + fml + \")\").asInstanceOf[FeatureModelVariable]\n",
    "        return new FMLBasicInterpreter().eval(fml).asInstanceOf[FeatureModelVariable];\n",
    "    }\n",
    "}"
   ]
  },
  {
   "cell_type": "code",
   "execution_count": 3,
   "metadata": {},
   "outputs": [
    {
     "data": {
      "text/plain": [
       "12.0"
      ]
     },
     "execution_count": 3,
     "metadata": {},
     "output_type": "execute_result"
    },
    {
     "name": "stderr",
     "output_type": "stream",
     "text": [
      "java.lang.InterruptedException\n",
      "\tat java.lang.Object.wait(Native Method)\n",
      "\tat java.lang.ref.ReferenceQueue.remove(ReferenceQueue.java:142)\n",
      "\tat java.lang.ref.ReferenceQueue.remove(ReferenceQueue.java:158)\n",
      "\tat org.eclipse.emf.common.util.CommonUtil$1ReferenceClearingQueuePollingThread.run(CommonUtil.java:70)\n"
     ]
    }
   ],
   "source": [
    "FMLInterpreter.FM(\"H : [E] [LL] [O] (W|R); W -> LL;\").counting()"
   ]
  },
  {
   "cell_type": "code",
   "execution_count": 4,
   "metadata": {},
   "outputs": [
    {
     "data": {
      "text/plain": [
       "H: [O] [LL] [E] ;"
      ]
     },
     "execution_count": 4,
     "metadata": {},
     "output_type": "execute_result"
    }
   ],
   "source": [
    "import org.xtext.example.mydsl.fml.SliceMode\n",
    "\n",
    "val fmS = FMLInterpreter.FM(\"H : [E] [LL] [O] (W|R); W -> LL;\").slice(SliceMode.EXCLUDING, \"W\", \"R\")"
   ]
  },
  {
   "cell_type": "code",
   "execution_count": 5,
   "metadata": {},
   "outputs": [
    {
     "data": {
      "text/plain": [
       "[fr.familiar.variable.SetVariable@10ed477b, fr.familiar.variable.SetVariable@36c1d5d7, fr.familiar.variable.SetVariable@c9ca16b, fr.familiar.variable.SetVariable@22280d40, fr.familiar.variable.SetVariable@3259b073, fr.familiar.variable.SetVariable@555f0625, fr.familiar.variable.SetVariable@6cf0f84b, fr.familiar.variable.SetVariable@2412b4e9, fr.familiar.variable.SetVariable@3c880a24, fr.familiar.variable.SetVariable@16da7c1, fr.familiar.variable.SetVariable@162a0396, fr.familiar.variable.SetVariable@30ec0101]"
      ]
     },
     "execution_count": 5,
     "metadata": {},
     "output_type": "execute_result"
    }
   ],
   "source": [
    "FMLInterpreter.FM(\"H : [E] [LL] [O] (W|R); W -> LL;\").configs()"
   ]
  },
  {
   "cell_type": "code",
   "execution_count": 6,
   "metadata": {},
   "outputs": [
    {
     "name": "stdout",
     "output_type": "stream",
     "text": [
      "{LL;H;E;W}\n",
      "{W;H;LL;O}\n",
      "{R;H}\n",
      "{E;R;H}\n",
      "{R;O;H}\n",
      "{R;H;O;E;LL}\n",
      "{H;LL;W}\n",
      "{R;H;LL}\n",
      "{O;H;LL;E;W}\n",
      "{R;H;O;LL}\n",
      "{E;H;R;LL}\n",
      "{H;R;O;E}\n"
     ]
    },
    {
     "data": {
      "text/plain": [
       "8"
      ]
     },
     "execution_count": 6,
     "metadata": {},
     "output_type": "execute_result"
    }
   ],
   "source": [
    "import scala.collection.JavaConversions._\n",
    "val cfs = FMLInterpreter.FM(\"H : [E] [LL] [O] (W|R); W -> LL;\").configs()\n",
    "cfs.foreach(cf => println(cf.getValue()))\n",
    "\n",
    "def remove_ft(cf : Variable) = {\n",
    "    val sv = cf.asInstanceOf[SetVariable] \n",
    "    val fts = sv.getVars()\n",
    "    val clean_fts = fts.map (ft => { if (ft.getValue().equals(\"W\") || ft.getValue().equals(\"R\")) \"\" else ft.getValue() })\n",
    "    clean_fts.filter(vl => vl != \"\")\n",
    "}\n",
    "\n",
    "cfs.map(cf => remove_ft(cf)).size\n",
    "\n",
    "\n"
   ]
  },
  {
   "cell_type": "code",
   "execution_count": null,
   "metadata": {},
   "outputs": [],
   "source": []
  }
 ],
 "metadata": {
  "kernelspec": {
   "display_name": "Scala",
   "language": "scala",
   "name": "scala"
  },
  "language_info": {
   "codemirror_mode": "text/x-scala",
   "file_extension": ".scala",
   "mimetype": "",
   "name": "Scala",
   "nbconverter_exporter": "",
   "version": "2.11.12"
  },
  "toc": {
   "base_numbering": 1,
   "nav_menu": {},
   "number_sections": false,
   "sideBar": false,
   "skip_h1_title": false,
   "title_cell": "Table of Contents",
   "title_sidebar": "Contents",
   "toc_cell": false,
   "toc_position": {},
   "toc_section_display": false,
   "toc_window_display": false
  }
 },
 "nbformat": 4,
 "nbformat_minor": 2
}
